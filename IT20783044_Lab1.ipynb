{
 "cells": [
  {
   "cell_type": "markdown",
   "id": "35ddc8c6",
   "metadata": {},
   "source": [
    "# LAB 1"
   ]
  },
  {
   "cell_type": "markdown",
   "id": "661670ab",
   "metadata": {},
   "source": [
    "### Task 1"
   ]
  },
  {
   "cell_type": "code",
   "execution_count": null,
   "id": "4108b9ee",
   "metadata": {},
   "outputs": [],
   "source": [
    "# import numpy as np\n",
    "from numpy import random\n",
    "import matplotlib.pyplot as plt\n",
    "import seaborn as sns\n",
    "\n",
    "x = random.exponential(scale=1, size=(4, 4))  #scale - inverse of rate ( see lam in poisson distribution ) defaults to 1.0.\n",
    "\n",
    "print(x)"
   ]
  },
  {
   "cell_type": "code",
   "execution_count": null,
   "id": "851e626d",
   "metadata": {},
   "outputs": [],
   "source": [
    "random_uniformarray = np.random.rand(100000) #(1000 float values between 0-1) \n",
    "# or you can use \n",
    "#plt.hist(np.random.uniform(low=0, high=1, size=100000), density=True, bins=100, histtype=\"step\", color=\"red\", label=\"Uniform\")\n",
    "\n",
    "random_normal_array = np.random.normal(size=100000)\n",
    "plt.figure(figsize=(10, 6))  # Specify the width and height in inches\n",
    "\n",
    "plt.hist(random_uniformarray , density=True ,  bins=50 ,histtype=\"step\",color=\"blue\", label=\"Uniform\" )\n",
    "plt.hist(random_normal_array, density=True, bins=50, histtype=\"step\", color=\"red\", label=\"Normal\")\n",
    "plt.hist(np.ravel(x), density=True, bins=50, histtype=\"step\", color=\"green\", label=\"Exponential\")\n",
    "\n",
    "plt.axis([-2.5, 2.5, 0, 1.1])\n",
    "plt.legend(loc = \"upper left\")\n",
    "plt.title(\"Random distributions\")\n",
    "plt.xlabel(\"Value\")\n",
    "plt.ylabel(\"Density\")\n",
    "plt.show()\n",
    "\n",
    "#histtype{'bar', 'barstacked', 'step', 'stepfilled'}, default: 'bar'\n",
    "#np.ravel(x) is used to flatten a potentially multi-dimensional array x into a 1D array"
   ]
  },
  {
   "cell_type": "code",
   "execution_count": null,
   "id": "a9c2cab0",
   "metadata": {},
   "outputs": [],
   "source": [
    "X = np.linspace(-5, 5, 100)\n",
    "Y = np.linspace(-5, 5, 100)\n",
    "X, Y = np.meshgrid(X, Y)\n",
    "Z = X**2 + Y**2\n",
    "\n",
    "fig = plt.figure()\n",
    "ax = fig.add_subplot(111, projection='3d')\n",
    "ax.plot_surface(X, Y, Z, cmap='viridis')\n",
    "ax.set_xlabel('X')\n",
    "ax.set_ylabel('Y')\n",
    "ax.set_zlabel('Z')\n",
    "ax.set_title('3D Plot of Z = X^2 + Y^2')\n",
    "plt.show()\n"
   ]
  },
  {
   "cell_type": "code",
   "execution_count": null,
   "id": "e8a617d9",
   "metadata": {},
   "outputs": [],
   "source": [
    "# Task 1.4: Calculate and visualize Pearson and Spearman correlations\n",
    "import seaborn as sns\n",
    "import pandas as pd\n"
   ]
  },
  {
   "cell_type": "code",
   "execution_count": null,
   "id": "5d8fd503",
   "metadata": {},
   "outputs": [],
   "source": [
    "import numpy as np\n",
    "import matplotlib.pyplot as plt\n",
    "from mpl_toolkits.mplot3d import Axes3D\n",
    "\n",
    "# Create a grid of x and y values within the specified range\n",
    "X = np.linspace(-5, 5, 100)\n",
    "Y = np.linspace(-5, 5, 100)\n",
    "X, Y = np.meshgrid(X, Y)\n",
    "\n",
    "# Calculate Z = X^2 + Y^2\n",
    "Z = X**2 + Y**2\n",
    "\n",
    "# Create a 3D plot\n",
    "fig = plt.figure()\n",
    "ax = fig.add_subplot(111, projection='3d')\n",
    "\n",
    "# Plot the surface\n",
    "ax.plot_surface(X, Y, Z, cmap='viridis')\n",
    "\n",
    "# Set labels and title\n",
    "ax.set_xlabel('X')\n",
    "ax.set_ylabel('Y')\n",
    "ax.set_zlabel('Z')\n",
    "ax.set_title('3D Plot of Z = X^2 + Y^2')\n",
    "\n",
    "# Show the plot\n",
    "plt.show()\n"
   ]
  },
  {
   "cell_type": "code",
   "execution_count": null,
   "id": "7dbffbc6",
   "metadata": {},
   "outputs": [],
   "source": []
  }
 ],
 "metadata": {
  "kernelspec": {
   "display_name": "Python 3 (ipykernel)",
   "language": "python",
   "name": "python3"
  },
  "language_info": {
   "codemirror_mode": {
    "name": "ipython",
    "version": 3
   },
   "file_extension": ".py",
   "mimetype": "text/x-python",
   "name": "python",
   "nbconvert_exporter": "python",
   "pygments_lexer": "ipython3",
   "version": "3.11.4"
  }
 },
 "nbformat": 4,
 "nbformat_minor": 5
}
