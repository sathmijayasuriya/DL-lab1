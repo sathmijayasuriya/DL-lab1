{
 "cells": [
  {
   "cell_type": "markdown",
   "id": "35ddc8c6",
   "metadata": {},
   "source": [
    "# LAB 1"
   ]
  },
  {
   "cell_type": "markdown",
   "id": "661670ab",
   "metadata": {},
   "source": [
    "### Task 1"
   ]
  },
  {
   "cell_type": "code",
   "execution_count": 1,
   "id": "4108b9ee",
   "metadata": {},
   "outputs": [
    {
     "ename": "ModuleNotFoundError",
     "evalue": "No module named 'numpy'",
     "output_type": "error",
     "traceback": [
      "\u001b[1;31m---------------------------------------------------------------------------\u001b[0m",
      "\u001b[1;31mModuleNotFoundError\u001b[0m                       Traceback (most recent call last)",
      "\u001b[1;32me:\\4th year 1st semester\\deep learning  - SE4050\\LABS\\lab 1\\github\\DL-lab1\\IT20783044_Lab1.ipynb Cell 3\u001b[0m line \u001b[0;36m2\n\u001b[0;32m      <a href='vscode-notebook-cell:/e%3A/4th%20year%201st%20semester/deep%20learning%20%20-%20SE4050/LABS/lab%201/github/DL-lab1/IT20783044_Lab1.ipynb#W2sZmlsZQ%3D%3D?line=0'>1</a>\u001b[0m \u001b[39m# import numpy as np\u001b[39;00m\n\u001b[1;32m----> <a href='vscode-notebook-cell:/e%3A/4th%20year%201st%20semester/deep%20learning%20%20-%20SE4050/LABS/lab%201/github/DL-lab1/IT20783044_Lab1.ipynb#W2sZmlsZQ%3D%3D?line=1'>2</a>\u001b[0m \u001b[39mfrom\u001b[39;00m \u001b[39mnumpy\u001b[39;00m \u001b[39mimport\u001b[39;00m random\n\u001b[0;32m      <a href='vscode-notebook-cell:/e%3A/4th%20year%201st%20semester/deep%20learning%20%20-%20SE4050/LABS/lab%201/github/DL-lab1/IT20783044_Lab1.ipynb#W2sZmlsZQ%3D%3D?line=2'>3</a>\u001b[0m \u001b[39mimport\u001b[39;00m \u001b[39mmatplotlib\u001b[39;00m\u001b[39m.\u001b[39;00m\u001b[39mpyplot\u001b[39;00m \u001b[39mas\u001b[39;00m \u001b[39mplt\u001b[39;00m\n\u001b[0;32m      <a href='vscode-notebook-cell:/e%3A/4th%20year%201st%20semester/deep%20learning%20%20-%20SE4050/LABS/lab%201/github/DL-lab1/IT20783044_Lab1.ipynb#W2sZmlsZQ%3D%3D?line=3'>4</a>\u001b[0m \u001b[39mimport\u001b[39;00m \u001b[39mseaborn\u001b[39;00m \u001b[39mas\u001b[39;00m \u001b[39msns\u001b[39;00m\n",
      "\u001b[1;31mModuleNotFoundError\u001b[0m: No module named 'numpy'"
     ]
    }
   ],
   "source": [
    "# import numpy as np\n",
    "from numpy import random\n",
    "import matplotlib.pyplot as plt\n",
    "import seaborn as sns\n",
    "\n",
    "x = random.exponential(scale=1, size=(4, 4))  #scale - inverse of rate ( see lam in poisson distribution ) defaults to 1.0.\n",
    "\n",
    "print(x)"
   ]
  },
  {
   "cell_type": "code",
   "execution_count": null,
   "id": "851e626d",
   "metadata": {},
   "outputs": [],
   "source": [
    "random_uniformarray = np.random.rand(100000) #(1000 float values between 0-1) \n",
    "# or you can use \n",
    "#plt.hist(np.random.uniform(low=0, high=1, size=100000), density=True, bins=100, histtype=\"step\", color=\"red\", label=\"Uniform\")\n",
    "\n",
    "random_normal_array = np.random.normal(size=100000)\n",
    "plt.figure(figsize=(10, 6))  # Specify the width and height in inches\n",
    "\n",
    "plt.hist(random_uniformarray , density=True ,  bins=50 ,histtype=\"step\",color=\"blue\", label=\"Uniform\" )\n",
    "plt.hist(random_normal_array, density=True, bins=50, histtype=\"step\", color=\"red\", label=\"Normal\")\n",
    "plt.hist(np.ravel(x), density=True, bins=50, histtype=\"step\", color=\"green\", label=\"Exponential\")\n",
    "\n",
    "plt.axis([-2.5, 2.5, 0, 1.1])\n",
    "plt.legend(loc = \"upper left\")\n",
    "plt.title(\"Random distributions\")\n",
    "plt.xlabel(\"Value\")\n",
    "plt.ylabel(\"Density\")\n",
    "plt.show()\n",
    "\n",
    "#histtype{'bar', 'barstacked', 'step', 'stepfilled'}, default: 'bar'\n",
    "#np.ravel(x) is used to flatten a potentially multi-dimensional array x into a 1D array"
   ]
  },
  {
   "cell_type": "code",
   "execution_count": null,
   "id": "a9c2cab0",
   "metadata": {},
   "outputs": [],
   "source": [
    "X = np.linspace(-5, 5, 100)\n",
    "Y = np.linspace(-5, 5, 100)\n",
    "X, Y = np.meshgrid(X, Y)\n",
    "Z = X**2 + Y**2\n",
    "\n",
    "fig = plt.figure()\n",
    "ax = fig.add_subplot(111, projection='3d')\n",
    "ax.plot_surface(X, Y, Z, cmap='viridis')\n",
    "ax.set_xlabel('X')\n",
    "ax.set_ylabel('Y')\n",
    "ax.set_zlabel('Z')\n",
    "ax.set_title('3D Plot of Z = X^2 + Y^2')\n",
    "plt.show()\n"
   ]
  },
  {
   "cell_type": "code",
   "execution_count": null,
   "id": "e8a617d9",
   "metadata": {},
   "outputs": [],
   "source": [
    "# Task 1.4: Calculate and visualize Pearson and Spearman correlations\n",
    "import seaborn as sns\n",
    "import pandas as pd\n"
   ]
  },
  {
   "cell_type": "code",
   "execution_count": null,
   "id": "5d8fd503",
   "metadata": {},
   "outputs": [],
   "source": [
    "import numpy as np\n",
    "import matplotlib.pyplot as plt\n",
    "from mpl_toolkits.mplot3d import Axes3D\n",
    "\n",
    "# Create a grid of x and y values within the specified range\n",
    "X = np.linspace(-5, 5, 100)\n",
    "Y = np.linspace(-5, 5, 100)\n",
    "X, Y = np.meshgrid(X, Y)\n",
    "\n",
    "# Calculate Z = X^2 + Y^2\n",
    "Z = X**2 + Y**2\n",
    "\n",
    "# Create a 3D plot\n",
    "fig = plt.figure()\n",
    "ax = fig.add_subplot(111, projection='3d')\n",
    "\n",
    "# Plot the surface\n",
    "ax.plot_surface(X, Y, Z, cmap='viridis')\n",
    "\n",
    "# Set labels and title\n",
    "ax.set_xlabel('X')\n",
    "ax.set_ylabel('Y')\n",
    "ax.set_zlabel('Z')\n",
    "ax.set_title('3D Plot of Z = X^2 + Y^2')\n",
    "\n",
    "# Show the plot\n",
    "plt.show()\n"
   ]
  },
  {
   "cell_type": "code",
   "execution_count": 3,
   "id": "7dbffbc6",
   "metadata": {},
   "outputs": [
    {
     "ename": "ModuleNotFoundError",
     "evalue": "No module named 'pandas'",
     "output_type": "error",
     "traceback": [
      "\u001b[1;31m---------------------------------------------------------------------------\u001b[0m",
      "\u001b[1;31mModuleNotFoundError\u001b[0m                       Traceback (most recent call last)",
      "\u001b[1;32me:\\4th year 1st semester\\deep learning  - SE4050\\LABS\\lab 1\\github\\DL-lab1\\IT20783044_Lab1.ipynb Cell 8\u001b[0m line \u001b[0;36m3\n\u001b[0;32m      <a href='vscode-notebook-cell:/e%3A/4th%20year%201st%20semester/deep%20learning%20%20-%20SE4050/LABS/lab%201/github/DL-lab1/IT20783044_Lab1.ipynb#X10sZmlsZQ%3D%3D?line=0'>1</a>\u001b[0m \u001b[39m#task 2\u001b[39;00m\n\u001b[0;32m      <a href='vscode-notebook-cell:/e%3A/4th%20year%201st%20semester/deep%20learning%20%20-%20SE4050/LABS/lab%201/github/DL-lab1/IT20783044_Lab1.ipynb#X10sZmlsZQ%3D%3D?line=1'>2</a>\u001b[0m \u001b[39m#install pandas through conda -> open Anaconda Prompt and type conda install pandas\u001b[39;00m\n\u001b[1;32m----> <a href='vscode-notebook-cell:/e%3A/4th%20year%201st%20semester/deep%20learning%20%20-%20SE4050/LABS/lab%201/github/DL-lab1/IT20783044_Lab1.ipynb#X10sZmlsZQ%3D%3D?line=2'>3</a>\u001b[0m \u001b[39mimport\u001b[39;00m \u001b[39mpandas\u001b[39;00m \u001b[39mas\u001b[39;00m \u001b[39mpd\u001b[39;00m\n\u001b[0;32m      <a href='vscode-notebook-cell:/e%3A/4th%20year%201st%20semester/deep%20learning%20%20-%20SE4050/LABS/lab%201/github/DL-lab1/IT20783044_Lab1.ipynb#X10sZmlsZQ%3D%3D?line=3'>4</a>\u001b[0m \u001b[39mimport\u001b[39;00m \u001b[39mseaborn\u001b[39;00m \u001b[39mas\u001b[39;00m \u001b[39msns\u001b[39;00m\n\u001b[0;32m      <a href='vscode-notebook-cell:/e%3A/4th%20year%201st%20semester/deep%20learning%20%20-%20SE4050/LABS/lab%201/github/DL-lab1/IT20783044_Lab1.ipynb#X10sZmlsZQ%3D%3D?line=4'>5</a>\u001b[0m \u001b[39mimport\u001b[39;00m \u001b[39mmatplotlib\u001b[39;00m\u001b[39m.\u001b[39;00m\u001b[39mpyplot\u001b[39;00m \u001b[39mas\u001b[39;00m \u001b[39mplt\u001b[39;00m\n",
      "\u001b[1;31mModuleNotFoundError\u001b[0m: No module named 'pandas'"
     ]
    }
   ],
   "source": [
    "#task 2\n",
    "#install pandas through conda -> open Anaconda Prompt and type conda install pandas\n",
    "import pandas as pd\n",
    "import seaborn as sns\n",
    "import matplotlib.pyplot as plt"
   ]
  },
  {
   "cell_type": "code",
   "execution_count": 5,
   "id": "896c15d7",
   "metadata": {},
   "outputs": [
    {
     "ename": "NameError",
     "evalue": "name 'pd' is not defined",
     "output_type": "error",
     "traceback": [
      "\u001b[1;31m---------------------------------------------------------------------------\u001b[0m",
      "\u001b[1;31mNameError\u001b[0m                                 Traceback (most recent call last)",
      "\u001b[1;32me:\\4th year 1st semester\\deep learning  - SE4050\\LABS\\lab 1\\github\\DL-lab1\\IT20783044_Lab1.ipynb Cell 10\u001b[0m line \u001b[0;36m1\n\u001b[1;32m----> <a href='vscode-notebook-cell:/e%3A/4th%20year%201st%20semester/deep%20learning%20%20-%20SE4050/LABS/lab%201/github/DL-lab1/IT20783044_Lab1.ipynb#X11sZmlsZQ%3D%3D?line=0'>1</a>\u001b[0m data \u001b[39m=\u001b[39m pd\u001b[39m.\u001b[39mread_csv(\u001b[39m'\u001b[39m\u001b[39mAu_nanoparticle_dataset.csv\u001b[39m\u001b[39m'\u001b[39m)\n",
      "\u001b[1;31mNameError\u001b[0m: name 'pd' is not defined"
     ]
    }
   ],
   "source": [
    "data = pd.read_csv('Au_nanoparticle_dataset.csv')"
   ]
  },
  {
   "cell_type": "code",
   "execution_count": null,
   "id": "65c133a3",
   "metadata": {},
   "outputs": [
    {
     "ename": "NameError",
     "evalue": "name 'data' is not defined",
     "output_type": "error",
     "traceback": [
      "\u001b[1;31m---------------------------------------------------------------------------\u001b[0m",
      "\u001b[1;31mNameError\u001b[0m                                 Traceback (most recent call last)",
      "\u001b[1;32me:\\4th year 1st semester\\deep learning  - SE4050\\LABS\\lab 1\\github\\DL-lab1\\IT20783044_Lab1.ipynb Cell 10\u001b[0m line \u001b[0;36m2\n\u001b[0;32m      <a href='vscode-notebook-cell:/e%3A/4th%20year%201st%20semester/deep%20learning%20%20-%20SE4050/LABS/lab%201/github/DL-lab1/IT20783044_Lab1.ipynb#X12sZmlsZQ%3D%3D?line=0'>1</a>\u001b[0m \u001b[39m# print(data)\u001b[39;00m\n\u001b[1;32m----> <a href='vscode-notebook-cell:/e%3A/4th%20year%201st%20semester/deep%20learning%20%20-%20SE4050/LABS/lab%201/github/DL-lab1/IT20783044_Lab1.ipynb#X12sZmlsZQ%3D%3D?line=1'>2</a>\u001b[0m data\n",
      "\u001b[1;31mNameError\u001b[0m: name 'data' is not defined"
     ]
    }
   ],
   "source": [
    "# print(data)\n",
    "data"
   ]
  },
  {
   "cell_type": "code",
   "execution_count": null,
   "id": "7d3de1f7",
   "metadata": {},
   "outputs": [],
   "source": [
    "data.head()\n",
    "#display first 5 rows"
   ]
  },
  {
   "cell_type": "code",
   "execution_count": null,
   "id": "11aac497",
   "metadata": {},
   "outputs": [],
   "source": [
    "data.describe()"
   ]
  },
  {
   "cell_type": "code",
   "execution_count": null,
   "id": "e6ce9033",
   "metadata": {},
   "outputs": [],
   "source": [
    "#Filter the desired columns to create a new DataFrame.\n",
    "\n",
    "new_data = data[['N_total','N_bulk','N_surface', 'R_avg']]\n",
    "print(new_data.head(20))"
   ]
  },
  {
   "cell_type": "code",
   "execution_count": null,
   "id": "fc15b214",
   "metadata": {},
   "outputs": [],
   "source": [
    "#Calculate the mean, standard deviation, and quartile values for each of the four features.\n",
    "\n",
    "print(new_data.describe())"
   ]
  },
  {
   "cell_type": "code",
   "execution_count": null,
   "id": "3ba2c808",
   "metadata": {},
   "outputs": [],
   "source": [
    "#Plot histograms for each of the four features in a 1x4 layout.\n",
    "plt.figure(figsize=(15, 5))\n",
    "for i, column in enumerate(new_data.columns):\n",
    "    plt.subplot(1, 4, i + 1)\n",
    "    sns.histplot(new_data[column], kde=True)\n",
    "    plt.title(column)\n",
    "plt.tight_layout()\n",
    "plt.show()\n",
    "\n"
   ]
  },
  {
   "cell_type": "code",
   "execution_count": null,
   "id": "62eca354",
   "metadata": {},
   "outputs": [],
   "source": [
    "sns.pairplot(new_data, diag_kind=\"kde\")\n",
    "plt.show()\n"
   ]
  },
  {
   "cell_type": "code",
   "execution_count": null,
   "id": "1cca6eb2",
   "metadata": {},
   "outputs": [],
   "source": [
    "g = sns.PairGrid(new_df)\n",
    "g.map_upper(sns.histplot, kde=True)  # Bivariate histogram\n",
    "g.map_diag(sns.histplot, kde=True)   # Histogram with KDE\n",
    "g.map_lower(sns.kdeplot)             # Bivariate KDE\n",
    "plt.show()\n"
   ]
  }
 ],
 "metadata": {
  "kernelspec": {
   "display_name": "Python 3 (ipykernel)",
   "language": "python",
   "name": "python3"
  },
  "language_info": {
   "codemirror_mode": {
    "name": "ipython",
    "version": 3
   },
   "file_extension": ".py",
   "mimetype": "text/x-python",
   "name": "python",
   "nbconvert_exporter": "python",
   "pygments_lexer": "ipython3",
   "version": "3.11.3"
  }
 },
 "nbformat": 4,
 "nbformat_minor": 5
}
